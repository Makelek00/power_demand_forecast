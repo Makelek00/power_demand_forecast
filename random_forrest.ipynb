{
 "cells": [
  {
   "cell_type": "code",
   "execution_count": 2,
   "metadata": {},
   "outputs": [
    {
     "name": "stderr",
     "output_type": "stream",
     "text": [
      "c:\\Users\\micha\\AppData\\Local\\Programs\\Python\\Python311\\Lib\\site-packages\\tqdm\\auto.py:21: TqdmWarning: IProgress not found. Please update jupyter and ipywidgets. See https://ipywidgets.readthedocs.io/en/stable/user_install.html\n",
      "  from .autonotebook import tqdm as notebook_tqdm\n"
     ]
    }
   ],
   "source": [
    "import pandas as pd\n",
    "from sklearn.ensemble import RandomForestRegressor\n",
    "from sklearn.model_selection import train_test_split\n",
    "from sklearn.metrics import mean_squared_error\n",
    "import optuna\n",
    "\n",
    "import numpy as np"
   ]
  },
  {
   "cell_type": "code",
   "execution_count": 7,
   "metadata": {},
   "outputs": [
    {
     "name": "stderr",
     "output_type": "stream",
     "text": [
      "[I 2025-03-10 20:45:59,938] A new study created in memory with name: no-name-2d88531d-74be-4a1b-938a-3457ace0b083\n",
      "[I 2025-03-10 20:46:03,202] Trial 0 finished with value: -3.44301588330366 and parameters: {'n_estimators': 240, 'max_depth': 11, 'min_samples_split': 7, 'min_samples_leaf': 2}. Best is trial 0 with value: -3.44301588330366.\n",
      "[I 2025-03-10 20:46:04,760] Trial 1 finished with value: -3.652075708891905 and parameters: {'n_estimators': 135, 'max_depth': 13, 'min_samples_split': 12, 'min_samples_leaf': 15}. Best is trial 0 with value: -3.44301588330366.\n",
      "[I 2025-03-10 20:46:05,031] Trial 2 finished with value: -7.160426910533886 and parameters: {'n_estimators': 59, 'max_depth': 3, 'min_samples_split': 7, 'min_samples_leaf': 9}. Best is trial 0 with value: -3.44301588330366.\n",
      "[I 2025-03-10 20:46:09,143] Trial 3 finished with value: -3.5055937709322222 and parameters: {'n_estimators': 265, 'max_depth': 20, 'min_samples_split': 13, 'min_samples_leaf': 1}. Best is trial 0 with value: -3.44301588330366.\n",
      "[I 2025-03-10 20:46:11,036] Trial 4 finished with value: -3.611947584219957 and parameters: {'n_estimators': 157, 'max_depth': 19, 'min_samples_split': 9, 'min_samples_leaf': 12}. Best is trial 0 with value: -3.44301588330366.\n",
      "[I 2025-03-10 20:46:12,887] Trial 5 finished with value: -3.6063088674022916 and parameters: {'n_estimators': 149, 'max_depth': 19, 'min_samples_split': 21, 'min_samples_leaf': 10}. Best is trial 0 with value: -3.44301588330366.\n",
      "[I 2025-03-10 20:46:14,841] Trial 6 finished with value: -3.660587299121994 and parameters: {'n_estimators': 188, 'max_depth': 9, 'min_samples_split': 19, 'min_samples_leaf': 15}. Best is trial 0 with value: -3.44301588330366.\n",
      "[I 2025-03-10 20:46:16,089] Trial 7 finished with value: -3.636667783287132 and parameters: {'n_estimators': 109, 'max_depth': 12, 'min_samples_split': 5, 'min_samples_leaf': 14}. Best is trial 0 with value: -3.44301588330366.\n",
      "[I 2025-03-10 20:46:17,844] Trial 8 finished with value: -3.4977763570660345 and parameters: {'n_estimators': 141, 'max_depth': 10, 'min_samples_split': 10, 'min_samples_leaf': 1}. Best is trial 0 with value: -3.44301588330366.\n",
      "[I 2025-03-10 20:46:18,974] Trial 9 finished with value: -3.5884096755399395 and parameters: {'n_estimators': 88, 'max_depth': 14, 'min_samples_split': 9, 'min_samples_leaf': 9}. Best is trial 0 with value: -3.44301588330366.\n",
      "[I 2025-03-10 20:46:21,257] Trial 10 finished with value: -3.961936614891816 and parameters: {'n_estimators': 289, 'max_depth': 6, 'min_samples_split': 27, 'min_samples_leaf': 5}. Best is trial 0 with value: -3.44301588330366.\n",
      "[I 2025-03-10 20:46:23,872] Trial 11 finished with value: -3.473352913820882 and parameters: {'n_estimators': 226, 'max_depth': 9, 'min_samples_split': 3, 'min_samples_leaf': 1}. Best is trial 0 with value: -3.44301588330366.\n",
      "[I 2025-03-10 20:46:25,965] Trial 12 finished with value: -3.766553166548344 and parameters: {'n_estimators': 229, 'max_depth': 7, 'min_samples_split': 5, 'min_samples_leaf': 4}. Best is trial 0 with value: -3.44301588330366.\n",
      "[I 2025-03-10 20:46:29,222] Trial 13 finished with value: -3.53056383031076 and parameters: {'n_estimators': 221, 'max_depth': 15, 'min_samples_split': 2, 'min_samples_leaf': 4}. Best is trial 0 with value: -3.44301588330366.\n",
      "[I 2025-03-10 20:46:32,495] Trial 14 finished with value: -3.6001556163549213 and parameters: {'n_estimators': 235, 'max_depth': 16, 'min_samples_split': 2, 'min_samples_leaf': 6}. Best is trial 0 with value: -3.44301588330366.\n",
      "[I 2025-03-10 20:46:34,471] Trial 15 finished with value: -3.5821981656909307 and parameters: {'n_estimators': 195, 'max_depth': 8, 'min_samples_split': 15, 'min_samples_leaf': 2}. Best is trial 0 with value: -3.44301588330366.\n",
      "[I 2025-03-10 20:46:36,234] Trial 16 finished with value: -4.275829386035021 and parameters: {'n_estimators': 259, 'max_depth': 5, 'min_samples_split': 28, 'min_samples_leaf': 7}. Best is trial 0 with value: -3.44301588330366.\n",
      "[I 2025-03-10 20:46:40,037] Trial 17 finished with value: -3.4511522427978254 and parameters: {'n_estimators': 282, 'max_depth': 11, 'min_samples_split': 5, 'min_samples_leaf': 3}. Best is trial 0 with value: -3.44301588330366.\n",
      "[I 2025-03-10 20:46:43,723] Trial 18 finished with value: -3.5583325728121826 and parameters: {'n_estimators': 297, 'max_depth': 11, 'min_samples_split': 22, 'min_samples_leaf': 3}. Best is trial 0 with value: -3.44301588330366.\n",
      "[I 2025-03-10 20:46:47,445] Trial 19 finished with value: -3.5327217835311195 and parameters: {'n_estimators': 265, 'max_depth': 16, 'min_samples_split': 18, 'min_samples_leaf': 3}. Best is trial 0 with value: -3.44301588330366.\n",
      "[I 2025-03-10 20:46:50,709] Trial 20 finished with value: -3.612048845111177 and parameters: {'n_estimators': 252, 'max_depth': 12, 'min_samples_split': 7, 'min_samples_leaf': 7}. Best is trial 0 with value: -3.44301588330366.\n",
      "[I 2025-03-10 20:46:53,338] Trial 21 finished with value: -3.4553455388487144 and parameters: {'n_estimators': 207, 'max_depth': 10, 'min_samples_split': 4, 'min_samples_leaf': 1}. Best is trial 0 with value: -3.44301588330366.\n",
      "[I 2025-03-10 20:46:55,989] Trial 22 finished with value: -3.4673990727980386 and parameters: {'n_estimators': 207, 'max_depth': 10, 'min_samples_split': 5, 'min_samples_leaf': 3}. Best is trial 0 with value: -3.44301588330366.\n",
      "[I 2025-03-10 20:46:58,258] Trial 23 finished with value: -3.5712583329930916 and parameters: {'n_estimators': 174, 'max_depth': 11, 'min_samples_split': 7, 'min_samples_leaf': 5}. Best is trial 0 with value: -3.44301588330366.\n",
      "[I 2025-03-10 20:47:02,297] Trial 24 finished with value: -3.4651340048976103 and parameters: {'n_estimators': 276, 'max_depth': 14, 'min_samples_split': 12, 'min_samples_leaf': 2}. Best is trial 0 with value: -3.44301588330366.\n",
      "[I 2025-03-10 20:47:04,839] Trial 25 finished with value: -3.5095336714387813 and parameters: {'n_estimators': 247, 'max_depth': 8, 'min_samples_split': 5, 'min_samples_leaf': 2}. Best is trial 0 with value: -3.44301588330366.\n",
      "[I 2025-03-10 20:47:07,794] Trial 26 finished with value: -3.5416550492872463 and parameters: {'n_estimators': 211, 'max_depth': 13, 'min_samples_split': 10, 'min_samples_leaf': 4}. Best is trial 0 with value: -3.44301588330366.\n",
      "[I 2025-03-10 20:47:11,159] Trial 27 finished with value: -3.5275412394466468 and parameters: {'n_estimators': 278, 'max_depth': 10, 'min_samples_split': 15, 'min_samples_leaf': 1}. Best is trial 0 with value: -3.44301588330366.\n",
      "[I 2025-03-10 20:47:12,820] Trial 28 finished with value: -4.269826301578704 and parameters: {'n_estimators': 244, 'max_depth': 5, 'min_samples_split': 3, 'min_samples_leaf': 5}. Best is trial 0 with value: -3.44301588330366.\n",
      "[I 2025-03-10 20:47:15,335] Trial 29 finished with value: -3.501109568068949 and parameters: {'n_estimators': 176, 'max_depth': 13, 'min_samples_split': 13, 'min_samples_leaf': 3}. Best is trial 0 with value: -3.44301588330366.\n"
     ]
    },
    {
     "name": "stdout",
     "output_type": "stream",
     "text": [
      "Best hyperparameters: {'n_estimators': 240, 'max_depth': 11, 'min_samples_split': 7, 'min_samples_leaf': 2}\n"
     ]
    }
   ],
   "source": [
    "from sklearn.metrics import make_scorer\n",
    "\n",
    "def objective(trial):\n",
    "    n_estimators = trial.suggest_int('n_estimators', 50, 300)\n",
    "    max_depth = trial.suggest_int('max_depth', 3, 20)\n",
    "    min_samples_split = trial.suggest_int('min_samples_split', 2, 30)\n",
    "    min_samples_leaf = trial.suggest_int('min_samples_leaf', 1, 15)\n",
    "\n",
    "    model = RandomForestRegressor(\n",
    "        n_estimators=n_estimators,\n",
    "        max_depth=max_depth,\n",
    "        min_samples_split=min_samples_split,\n",
    "        min_samples_leaf=min_samples_leaf,\n",
    "        random_state=42\n",
    "    )\n",
    "    \n",
    "    # Fit the model\n",
    "    model.fit(X_train, y_train)\n",
    "    \n",
    "    # Calculate validation score using MAPE\n",
    "    y_pred = model.predict(X_val)\n",
    "    mape = -np.mean(np.abs((y_val - y_pred) / y_val)) * 100  # Negative because we want to maximize\n",
    "    \n",
    "    return mape\n",
    "\n",
    "study = optuna.create_study(direction='maximize')  # maximize because we're using negative MAPE\n",
    "study.optimize(objective, n_trials=30)\n",
    "\n",
    "print(\"Best hyperparameters:\", study.best_trial.params)\n"
   ]
  },
  {
   "cell_type": "code",
   "execution_count": 3,
   "metadata": {},
   "outputs": [
    {
     "name": "stdout",
     "output_type": "stream",
     "text": [
      "train results\n",
      "Mean Absolute Percentage Error: 1.372645139932907%\n",
      "Val results\n",
      "Mean Absolute Percentage Error: 3.506544717678592%\n",
      "test results\n",
      "Mean Absolute Percentage Error: 4.1544522752847755%\n"
     ]
    }
   ],
   "source": [
    "merged_df = pd.read_csv('merged_df.csv')\n",
    "\n",
    "\n",
    "\n",
    "merged_df['Data'] = pd.to_datetime(merged_df['Data_x'])\n",
    "merged_df['hour'] = merged_df['Data'].dt.hour.astype(str)\n",
    "merged_df['day_of_week'] = merged_df['Data'].dt.dayofweek.astype(str)\n",
    "merged_df['week_of_year'] = merged_df['Data'].dt.isocalendar().week.astype(str)\n",
    "merged_df['previous_day_value'] = merged_df['value'].shift(24)\n",
    "\n",
    "# # Prepare the data\n",
    "# train['Data'] = pd.to_datetime(train['Data_x'])\n",
    "# train['hour'] = train['Data'].dt.hour.astype(str)\n",
    "# train['day_of_week'] = train['Data'].dt.dayofweek.astype(str)\n",
    "# train['week_of_year'] = train['Data'].dt.isocalendar().week.astype(str)\n",
    "\n",
    "# # Remove commas and convert 'forecast' column to float\n",
    "\n",
    "# # Add previous day's value\n",
    "# train['previous_day_value'] = train['value'].shift(24)\n",
    "# # Prepare the data\n",
    "# test['Data'] = pd.to_datetime(test['Data_x'])\n",
    "# test['hour'] = test['Data'].dt.hour.astype(str)\n",
    "# test['day'] = test['Data'].dt.day\n",
    "# test['month'] = test['Data'].dt.month\n",
    "# test['day_of_week'] = test['Data'].dt.dayofweek.astype(str)\n",
    "# test['week_of_year'] = test['Data'].dt.isocalendar().week.astype(str)\n",
    "\n",
    "\n",
    "# # Add previous day's value\n",
    "# test['previous_day_value'] = test['value'].shift(24)\n",
    "\n",
    "# Split the data into train and test sets\n",
    "train_size = int(len(merged_df) * 0.8)\n",
    "train = merged_df[:train_size]\n",
    "test = merged_df[train_size:]\n",
    "\n",
    "# Define features and target\n",
    "# Split the training data into training and validation sets\n",
    "X_train_full = train[['hour', 'day_of_week', 'week_of_year', 'previous_day_value','Usłonecznienie [godziny]',\"Suma dobowa opadu [mm]\",\"Dzień wolny\",\"sun\"]]\n",
    "y_train_full = train['value']\n",
    "\n",
    "# Split the training data into training and validation sets\n",
    "X_train, X_val, y_train, y_val = train_test_split(X_train_full, y_train_full, test_size=0.2, random_state=42, shuffle=False)\n",
    "\n",
    "X_test = test[['hour', 'day_of_week', 'week_of_year', 'previous_day_value',\"Usłonecznienie [godziny]\",\"Suma dobowa opadu [mm]\",\"Dzień wolny\",\"sun\"]]\n",
    "y_test = test['value']\n",
    "\n",
    "#  {'n_estimators': 227, 'max_depth': 11, 'min_samples_split': 5, 'min_samples_leaf': 2}\n",
    "# Best hyperparameters: {'n_estimators': 157, 'max_depth': 13, 'min_samples_split': 2, 'min_samples_leaf': 2}\n",
    "#  {'n_estimators': 176, 'max_depth': 13, 'min_samples_split': 13, 'min_samples_leaf': 3}\n",
    "# Create and train the model\n",
    "model = RandomForestRegressor(n_estimators=176, random_state=10, max_depth=13, min_samples_split=13, min_samples_leaf=3)\n",
    "model.fit(X_train, y_train)\n",
    "\n",
    "\n",
    "print(\"train results\")\n",
    "y_pred_train = model.predict(X_train)\n",
    "mape = (abs((y_pred_train - y_train) / y_train).mean()) * 100\n",
    "print(f'Mean Absolute Percentage Error: {mape}%')\n",
    "\n",
    "\n",
    "\n",
    "print(\"Val results\")\n",
    "y_pred_val = model.predict(X_val)\n",
    "mape = (abs((y_pred_val - y_val) / y_val).mean()) * 100\n",
    "print(f'Mean Absolute Percentage Error: {mape}%')\n",
    "\n",
    "\n",
    "\n",
    "print(\"test results\")\n",
    "y_pred = model.predict(X_test)\n",
    "mape = (abs((y_test - y_pred) / y_test).mean()) * 100\n",
    "print(f'Mean Absolute Percentage Error: {mape}%')\n"
   ]
  },
  {
   "cell_type": "code",
   "execution_count": 13,
   "metadata": {},
   "outputs": [
    {
     "data": {
      "image/png": "[encoded data removed]",
      "text/plain": [
       "<Figure size 1000x600 with 1 Axes>"
      ]
     },
     "metadata": {},
     "output_type": "display_data"
    }
   ],
   "source": [
    "import matplotlib.pyplot as plt\n",
    "\n",
    "# Get feature importances\n",
    "importances = model.feature_importances_\n",
    "feature_names = X_train.columns\n",
    "\n",
    "# Create a DataFrame for better visualization\n",
    "feature_importances = pd.DataFrame({'Feature': feature_names, 'Importance': importances})\n",
    "feature_importances = feature_importances.sort_values(by='Importance', ascending=False)\n",
    "\n",
    "# Plot the feature importances\n",
    "plt.figure(figsize=(10, 6))\n",
    "plt.barh(feature_importances['Feature'], feature_importances['Importance'])\n",
    "plt.xlabel('Importance')\n",
    "plt.ylabel('Feature')\n",
    "plt.title('Feature Importances')\n",
    "plt.gca().invert_yaxis()\n",
    "plt.show()"
   ]
  },
  {
   "cell_type": "code",
   "execution_count": null,
   "metadata": {},
   "outputs": [
    {
     "name": "stdout",
     "output_type": "stream",
     "text": [
      "Mean Absolute Percentage Error: 2.3367152471315125%\n"
     ]
    }
   ],
   "source": [
    "# Calculate MAPE using the 'forecast' column as predictions\n",
    "\n",
    "mape = (abs((test[\"value\"]  - test['forecast']) / y_test).mean()) * 100\n",
    "print(f'Mean Absolute Percentage Error: {mape}%')\n",
    " "
   ]
  },
  {
   "cell_type": "code",
   "execution_count": null,
   "metadata": {},
   "outputs": [],
   "source": []
  }
 ],
 "metadata": {
  "kernelspec": {
   "display_name": "Python 3",
   "language": "python",
   "name": "python3"
  },
  "language_info": {
   "codemirror_mode": {
    "name": "ipython",
    "version": 3
   },
   "file_extension": ".py",
   "mimetype": "text/x-python",
   "name": "python",
   "nbconvert_exporter": "python",
   "pygments_lexer": "ipython3",
   "version": "3.11.0"
  }
 },
 "nbformat": 4,
 "nbformat_minor": 2
}
